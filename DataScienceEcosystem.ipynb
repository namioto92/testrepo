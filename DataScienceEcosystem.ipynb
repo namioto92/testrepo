{
 "cells": [
  {
   "cell_type": "markdown",
   "id": "b56747bd-c9ea-481f-9fb9-f1c94366c57f",
   "metadata": {},
   "source": [
    "# Data Science Tools and Ecosystem "
   ]
  },
  {
   "cell_type": "markdown",
   "id": "42ff0820-1e6c-4ac6-89b5-0374f9a92299",
   "metadata": {
    "tags": []
   },
   "source": [
    "　In this notebook, Data Science Tools and Ecosystem are summarized."
   ]
  },
  {
   "cell_type": "markdown",
   "id": "6cfb530d-b968-4840-a146-9863e569a3c9",
   "metadata": {},
   "source": [
    "**Objectives:**"
   ]
  },
  {
   "cell_type": "markdown",
   "id": "e0c361a1-40fc-42fa-9693-4d60f17a8d7f",
   "metadata": {},
   "source": [
    "* List the popular languages for Data Scientists"
   ]
  },
  {
   "cell_type": "markdown",
   "id": "bcd293a6-2b29-49ac-b754-fe7055208a6c",
   "metadata": {},
   "source": [
    "* List the commonly used libraries for Data Scientists"
   ]
  },
  {
   "cell_type": "markdown",
   "id": "87c611fa-9aa6-4c21-b03a-6fe63e5b58cc",
   "metadata": {},
   "source": [
    "* List the popular tools for Data Scientists"
   ]
  },
  {
   "cell_type": "markdown",
   "id": "a635bed5-a628-4f7a-9310-d398980bc317",
   "metadata": {},
   "source": [
    "* Show a few examples of arithmetic expressions in Python"
   ]
  },
  {
   "cell_type": "markdown",
   "id": "b911e4e2-05f2-486e-b85c-46acad0355c5",
   "metadata": {
    "tags": []
   },
   "source": [
    "Some of the popular languages that Data Scientists use are:"
   ]
  },
  {
   "cell_type": "markdown",
   "id": "c9a4f014-1a5f-4300-8d8b-d72c8b922b5c",
   "metadata": {},
   "source": [
    "   1. Python"
   ]
  },
  {
   "cell_type": "markdown",
   "id": "ae6efb84-3dc2-406c-8add-acd08a681c75",
   "metadata": {},
   "source": [
    "   2. R"
   ]
  },
  {
   "cell_type": "markdown",
   "id": "4d029c55-9e40-451f-b696-eb94fce81fb4",
   "metadata": {},
   "source": [
    "   3. SQL"
   ]
  },
  {
   "cell_type": "markdown",
   "id": "08d21c07-a270-42bf-9c6d-c7e968b1da75",
   "metadata": {},
   "source": [
    "   4. Julia"
   ]
  },
  {
   "cell_type": "markdown",
   "id": "49488205-d213-4a09-880b-b98a4fe0a9f3",
   "metadata": {},
   "source": [
    " Some of the commonly used libraries used by Data Scientists include:"
   ]
  },
  {
   "cell_type": "markdown",
   "id": "c5acd075-a6a7-4781-981a-82098042c980",
   "metadata": {},
   "source": [
    "  1. Pandas"
   ]
  },
  {
   "cell_type": "markdown",
   "id": "769559ea-3a1a-48a2-9530-b2e925465267",
   "metadata": {},
   "source": [
    "  2. Numpy"
   ]
  },
  {
   "cell_type": "markdown",
   "id": "20681a39-7a78-4d19-9135-b34276a6532c",
   "metadata": {},
   "source": [
    "  3. Matplotlib"
   ]
  },
  {
   "cell_type": "markdown",
   "id": "69e85001-4010-42ae-a5fb-6b1f5672a3ee",
   "metadata": {},
   "source": [
    "  4. Scikit-learn"
   ]
  },
  {
   "cell_type": "markdown",
   "id": "44d929a1-29d0-41ab-bbd0-4d055fd1e55f",
   "metadata": {},
   "source": [
    " Data Science Tools"
   ]
  },
  {
   "cell_type": "markdown",
   "id": "b5d2bc64-8044-4fcf-8e64-6ea6c7452f69",
   "metadata": {},
   "source": [
    " |Data Science Tools|\n",
    " |---|\n",
    " |Jupyter Notebook|\n",
    " |RStudio|\n",
    " |GitHub|"
   ]
  },
  {
   "cell_type": "markdown",
   "id": "5ed01cc2-004a-457d-b148-50a4df73167f",
   "metadata": {},
   "source": [
    "### Below are a few examples of evaluating arithmetic expressions in Python"
   ]
  },
  {
   "cell_type": "markdown",
   "id": "d2bfa9ec-a745-4a42-ad31-978c192a7ebe",
   "metadata": {},
   "source": [
    "This a simple arithmetic expression to mutiply then add integers"
   ]
  },
  {
   "cell_type": "code",
   "execution_count": 3,
   "id": "ce77443f-83fa-4f44-bc52-baab23cce5c5",
   "metadata": {
    "tags": []
   },
   "outputs": [
    {
     "data": {
      "text/plain": [
       "17"
      ]
     },
     "execution_count": 3,
     "metadata": {},
     "output_type": "execute_result"
    }
   ],
   "source": [
    "(3*4)+5"
   ]
  },
  {
   "cell_type": "markdown",
   "id": "00253919-25e3-49c9-abc4-7222b3150a0c",
   "metadata": {},
   "source": [
    "This will convert 200 minutes to hours by diving by 60"
   ]
  },
  {
   "cell_type": "code",
   "execution_count": 5,
   "id": "dd967509-82d9-46e1-be48-b9eaa2a99984",
   "metadata": {
    "tags": []
   },
   "outputs": [
    {
     "data": {
      "text/plain": [
       "3.3333333333333335"
      ]
     },
     "execution_count": 5,
     "metadata": {},
     "output_type": "execute_result"
    }
   ],
   "source": [
    "200/60"
   ]
  },
  {
   "cell_type": "code",
   "execution_count": null,
   "id": "e73064c1-2871-4f4a-9a45-c8d07e442cec",
   "metadata": {},
   "outputs": [],
   "source": []
  },
  {
   "cell_type": "markdown",
   "id": "08f66fad-0eae-439c-bb0c-4fdc0869c2ae",
   "metadata": {},
   "source": [
    "## Author"
   ]
  },
  {
   "cell_type": "markdown",
   "id": "d24f8af6-4bb9-4154-be14-555c62129a93",
   "metadata": {},
   "source": [
    " Kunihiro Takagi"
   ]
  },
  {
   "cell_type": "code",
   "execution_count": null,
   "id": "75f274c1-44de-42ed-9c67-1e2d274da66f",
   "metadata": {},
   "outputs": [],
   "source": []
  }
 ],
 "metadata": {
  "kernelspec": {
   "display_name": "Python",
   "language": "python",
   "name": "conda-env-python-py"
  },
  "language_info": {
   "codemirror_mode": {
    "name": "ipython",
    "version": 3
   },
   "file_extension": ".py",
   "mimetype": "text/x-python",
   "name": "python",
   "nbconvert_exporter": "python",
   "pygments_lexer": "ipython3",
   "version": "3.7.12"
  }
 },
 "nbformat": 4,
 "nbformat_minor": 5
}
